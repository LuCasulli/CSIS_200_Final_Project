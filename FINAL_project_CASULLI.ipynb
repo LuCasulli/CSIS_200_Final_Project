{
 "cells": [
  {
   "cell_type": "markdown",
   "metadata": {},
   "source": [
    "# Final project\n",
    "\n",
    "**Can you escape a velociraptor?**\n",
    "\n",
    "Your goal is to figure out whether or not a velociraptor will catch you or if you can outrun it!\n",
    "\n",
    "## Problem 1. Position vs. time\n",
    "\n",
    "Suppose a velociraptor can run 18 m/s. And suppose you can run at 3 m/s, but you have a 30 meter head start. Assume that you and the 'raptor accelerate so quickly that you can ignore acceleration. \n",
    "\n",
    "Make a plot of the position vs. time for both you and the 'raptor (plot both on the same figure). Clearly label all axes and give the plot a legend. Plot over a suitable time frame. Save the figure as a .png file. \n",
    "\n",
    "*This plot will be included in your write-up*."
   ]
  },
  {
   "cell_type": "code",
   "execution_count": 312,
   "metadata": {
    "collapsed": false
   },
   "outputs": [
    {
     "data": {
      "image/png": "[encoded data removed]",
      "text/plain": [
       "<matplotlib.figure.Figure at 0x11215fd0>"
      ]
     },
     "metadata": {},
     "output_type": "display_data"
    }
   ],
   "source": [
    "from matplotlib import pyplot as plt\n",
    "import numpy as np\n",
    "%matplotlib inline\n",
    "x = np.linspace(0,4.9)\n",
    "y1 = 18*x\n",
    "y2 = 30 + 3*x\n",
    "plt.xlabel('time (s)')\n",
    "plt.ylabel('position (m)')\n",
    "plt.plot(x,y1, label = 'velociraptor')\n",
    "plt.plot(x,y2,label = 'human')\n",
    "plt.title(\"Human vs Velociraptor\")\n",
    "plt.legend()\n",
    "plt.savefig('foo.png')"
   ]
  },
  {
   "cell_type": "markdown",
   "metadata": {},
   "source": [
    "## Problem 2. When does the 'raptor catch up to you?\n",
    "\n",
    "Use your code to figure out when the raptor catches up to you. Both how much time has passed and how far *you* have run.  \n",
    "\n",
    "Do not just get this information off the graph. Use your Python code to figure this out! Getting the information just by looking at the plot will result in a 0 for this question. You can use an analytic approach (algebra) to check your answer, but that is not the approach I want you to use. Depending on how you write your code, you might not get an *exact* answer, but you should find a way to get pretty close to the algebraic solution. "
   ]
  },
  {
   "cell_type": "code",
   "execution_count": 219,
   "metadata": {
    "collapsed": false,
    "scrolled": true
   },
   "outputs": [
    {
     "name": "stdout",
     "output_type": "stream",
     "text": [
      "50\n",
      "0.0 30.0 False\n",
      "1.8 30.3 False\n",
      "3.6 30.6 False\n",
      "5.4 30.9 False\n",
      "7.2 31.2 False\n",
      "9.0 31.5 False\n",
      "10.8 31.8 False\n",
      "12.6 32.1 False\n",
      "14.4 32.4 False\n",
      "16.2 32.7 False\n",
      "18.0 33.0 False\n",
      "19.8 33.3 False\n",
      "21.6 33.6 False\n",
      "23.4 33.9 False\n",
      "25.2 34.2 False\n",
      "27.0 34.5 False\n",
      "28.8 34.8 False\n",
      "30.6 35.1 False\n",
      "32.4 35.4 False\n",
      "34.2 35.7 False\n",
      "36.0 36.0 True\n",
      "37.8 36.3 False\n",
      "39.6 36.6 False\n",
      "41.4 36.9 False\n",
      "43.2 37.2 False\n",
      "45.0 37.5 False\n",
      "46.8 37.8 False\n",
      "48.6 38.1 False\n",
      "50.4 38.4 False\n",
      "52.2 38.7 False\n",
      "54.0 39.0 False\n",
      "55.8 39.3 False\n",
      "57.6 39.6 False\n",
      "59.4 39.9 False\n",
      "61.2 40.2 False\n",
      "63.0 40.5 False\n",
      "64.8 40.8 False\n",
      "66.6 41.1 False\n",
      "68.4 41.4 False\n",
      "70.2 41.7 False\n",
      "72.0 42.0 False\n",
      "73.8 42.3 False\n",
      "75.6 42.6 False\n",
      "77.4 42.9 False\n",
      "79.2 43.2 False\n",
      "81.0 43.5 False\n",
      "82.8 43.8 False\n",
      "84.6 44.1 False\n",
      "86.4 44.4 False\n",
      "88.2 44.7 False\n"
     ]
    }
   ],
   "source": [
    "#npts = len(x)\n",
    "#for i in range(0, npts, 1):\n",
    "    #print i / 10.0\n",
    "\n",
    "npts = len(y1)\n",
    "print npts\n",
    "for i in range(0,50,1):\n",
    "    print y1[i], y2[i], y1[i] == y2[i]\n",
    "    \n",
    "print \"The raptor catches up at 36 meters and 2 seconds.\"\n",
    "    "
   ]
  },
  {
   "cell_type": "markdown",
   "metadata": {},
   "source": [
    "## Problem 3. When is it close enough to strike?\n",
    "\n",
    "It turns out the 'raptor will start trying to attack when it is 1 meter away. How much time has passed and how far have you run when it is 1 meter behind you? Use a similar approach as the last problem. \n",
    "\n",
    "***Also make a new copy of the above plot, but label (with a line or arrow or whatever you want) the point at which the raptor is 1 meter behind you.***"
   ]
  },
  {
   "cell_type": "code",
   "execution_count": 321,
   "metadata": {
    "collapsed": false,
    "scrolled": true
   },
   "outputs": [
    {
     "name": "stdout",
     "output_type": "stream",
     "text": [
      "50\n",
      "0.0 30.0 False\n",
      "0.918367346939 30.1530612245 False\n",
      "1.83673469388 30.306122449 False\n",
      "2.75510204082 30.4591836735 False\n",
      "3.67346938776 30.612244898 False\n",
      "4.59183673469 30.7653061224 False\n",
      "5.51020408163 30.9183673469 False\n",
      "6.42857142857 31.0714285714 False\n",
      "7.34693877551 31.2244897959 False\n",
      "8.26530612245 31.3775510204 False\n",
      "9.18367346939 31.5306122449 False\n",
      "10.1020408163 31.6836734694 False\n",
      "11.0204081633 31.8367346939 False\n",
      "11.9387755102 31.9897959184 False\n",
      "12.8571428571 32.1428571429 False\n",
      "13.7755102041 32.2959183673 False\n",
      "14.693877551 32.4489795918 False\n",
      "15.612244898 32.6020408163 False\n",
      "16.5306122449 32.7551020408 False\n",
      "17.4489795918 32.9081632653 False\n",
      "18.3673469388 33.0612244898 False\n",
      "19.2857142857 33.2142857143 False\n",
      "20.2040816327 33.3673469388 False\n",
      "21.1224489796 33.5204081633 False\n",
      "22.0408163265 33.6734693878 False\n",
      "22.9591836735 33.8265306122 False\n",
      "23.8775510204 33.9795918367 False\n",
      "24.7959183673 34.1326530612 False\n",
      "25.7142857143 34.2857142857 False\n",
      "26.6326530612 34.4387755102 False\n",
      "27.5510204082 34.5918367347 False\n",
      "28.4693877551 34.7448979592 False\n",
      "29.387755102 34.8979591837 False\n",
      "30.306122449 35.0510204082 False\n",
      "31.2244897959 35.2040816327 False\n",
      "32.1428571429 35.3571428571 False\n",
      "33.0612244898 35.5102040816 False\n",
      "33.9795918367 35.6632653061 False\n",
      "34.8979591837 35.8163265306 True\n",
      "35.8163265306 35.9693877551 True\n",
      "36.7346938776 36.1224489796 True\n",
      "37.6530612245 36.2755102041 True\n",
      "38.5714285714 36.4285714286 True\n",
      "39.4897959184 36.5816326531 True\n",
      "40.4081632653 36.7346938776 True\n",
      "41.3265306122 36.887755102 True\n",
      "42.2448979592 37.0408163265 True\n",
      "43.1632653061 37.193877551 True\n",
      "44.0816326531 37.3469387755 True\n",
      "45.0 37.5 True\n",
      "At 34.89 meters the velociraptor is about 1 meter away from the human which is at 35.82 meters.\n"
     ]
    },
    {
     "name": "stderr",
     "output_type": "stream",
     "text": [
      "C:\\Users\\luca\\Anaconda\\lib\\site-packages\\ipykernel\\__main__.py:10: DeprecationWarning: non integer (and non boolean) array-likes will not be accepted as indices in the future\n",
      "C:\\Users\\luca\\Anaconda\\lib\\site-packages\\ipykernel\\__main__.py:12: DeprecationWarning: non integer (and non boolean) array-likes will not be accepted as indices in the future\n"
     ]
    },
    {
     "data": {
      "image/png": "[encoded data removed]",
      "text/plain": [
       "<matplotlib.figure.Figure at 0x110ddba8>"
      ]
     },
     "metadata": {},
     "output_type": "display_data"
    }
   ],
   "source": [
    "from matplotlib import pyplot as plt\n",
    "import numpy as np\n",
    "%matplotlib inline\n",
    "x = np.linspace(0,2.5)\n",
    "y1 = 18*x\n",
    "y2 = 30 + 3*x\n",
    "plt.xlabel('time (s)')\n",
    "plt.ylabel('position (m)')\n",
    "markers_on = [35.82]\n",
    "plt.plot(x[markers_on], y1[markers_on], 'rD')\n",
    "markers_on = [34.89]\n",
    "plt.plot(x[markers_on], y2[markers_on], 'rD')\n",
    "plt.plot(x,y1, label = 'velociraptor')\n",
    "plt.plot(x,y2,label = 'human')\n",
    "plt.title(\"How Close\")\n",
    "\n",
    "npts = len(y1)\n",
    "print npts\n",
    "for i in range(0,50,1):\n",
    "    print y1[i], y2[i], y2[i] - 1 < y1[i]\n",
    "    \n",
    "print \"At 34.89 meters the velociraptor is about 1 meter away from the human which is at 35.82 meters.\""
   ]
  },
  {
   "cell_type": "markdown",
   "metadata": {},
   "source": [
    "## Problem 4. Will it bite you?\n",
    "\n",
    "When the 'raptor is 1 meter away, it will try to bite you. If it doesn't bite you, it will try a second and (if necessary) a third time. If it doesn't get you on the third try, it will grow frustrated and stop chasing you. Hurray!\n",
    "\n",
    "Suppose the first time it tries, there is a 20% chance it will bite you. If it misses and it needs to try a second time, there is only a 15% chance, and if it misses *that* time, there is only a 7% chance on the third try. \n",
    "\n",
    "If it bites you once, you're 'raptor food. If it misses all three times, you get away!\n",
    "\n",
    "What is the probability that you will get away?\n"
   ]
  },
  {
   "cell_type": "code",
   "execution_count": 311,
   "metadata": {
    "collapsed": false
   },
   "outputs": [
    {
     "name": "stdout",
     "output_type": "stream",
     "text": [
      "You live\n",
      "with 100 tries, escape signified by a 12 in the next cell and a death signified by a 13 two cells down, we see a 72% chance of survival and a 28% chance of death\n"
     ]
    }
   ],
   "source": [
    "import numpy as np\n",
    "\n",
    "percent = np.random.random()\n",
    "if percent<0.2:\n",
    "    print \"You're dead\"\n",
    "elif percent<.15: \n",
    "    print \"You're dead\"\n",
    "elif percent<.07:\n",
    "    print \"You're dead\"\n",
    "else:\n",
    "    print \"You live\"\n",
    "\n",
    "print \"with 100 tries, escape signified by a 12 in the next cell and a death signified by a 13 two cells down, we see a 72% chance of survival and a 28% chance of death\""
   ]
  },
  {
   "cell_type": "markdown",
   "metadata": {},
   "source": [
    "12 12 12 12 12 12 12 12 12 12 12 12 12 12 12 12 12 12 12 12 12 12 12 12 12 12 12 12 12 12 12 12 12 12 12 12 12 12 12 12 12 12 12 12 12 12 12 12 12 12 12 12 12 12 12 12 12 12 12 12 12 12 12 12 12 12 12 12 12 12 12 "
   ]
  },
  {
   "cell_type": "code",
   "execution_count": null,
   "metadata": {
    "collapsed": true
   },
   "outputs": [],
   "source": [
    "13 13 13 13 13 13 13 13 13 13 13 13 13 13 13 13 13 13 13 13 13 13 13 13 13 13 13 13 "
   ]
  }
 ],
 "metadata": {
  "kernelspec": {
   "display_name": "Python 2",
   "language": "python",
   "name": "python2"
  },
  "language_info": {
   "codemirror_mode": {
    "name": "ipython",
    "version": 2
   },
   "file_extension": ".py",
   "mimetype": "text/x-python",
   "name": "python",
   "nbconvert_exporter": "python",
   "pygments_lexer": "ipython2",
   "version": "2.7.10"
  }
 },
 "nbformat": 4,
 "nbformat_minor": 0
}
